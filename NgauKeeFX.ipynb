{
  "nbformat": 4,
  "nbformat_minor": 0,
  "metadata": {
    "colab": {
      "name": "mark6.ipynb",
      "version": "0.3.2",
      "provenance": [],
      "include_colab_link": true
    },
    "kernelspec": {
      "name": "python2",
      "display_name": "Python 2"
    }
  },
  "cells": [
    {
      "cell_type": "markdown",
      "metadata": {
        "id": "view-in-github",
        "colab_type": "text"
      },
      "source": [
        "[View in Colaboratory](https://colab.research.google.com/github/TONYHOKAN/NgauKeeFX/blob/master/mark6.ipynb)"
      ]
    },
    {
      "metadata": {
        "id": "8byFgSzvBqUs",
        "colab_type": "code",
        "colab": {
          "base_uri": "https://localhost:8080/",
          "height": 54
        },
        "outputId": "30f0623f-2962-48cc-df02-5bcffcde7d1a"
      },
      "cell_type": "code",
      "source": [
        "import requests \n",
        "from bs4 import BeautifulSoup \n",
        "url = \"http://www.nkcl.com.hk/change-ch.php\" \n",
        "r = requests.get(url).content\n",
        "Soup = BeautifulSoup(r, \"html.parser\")\n",
        "TargetTable = Soup.find(\"table\") \n",
        "AllRows = TargetTable.find_all(\"tr\")\n",
        "TargetRows = AllRows[2:]\n",
        "FXDatabase = {}\n",
        "for Row in TargetRows:\n",
        "  TDs = Row.find_all(\"td\")\n",
        "  TDCurrency = TDs[1]\n",
        "  Currency = TDCurrency.text.encode('utf-8')\n",
        "  TDBuy = Row.find_all(\"td\")[2]\n",
        "  TDSell = Row.find_all(\"td\")[3]\n",
        "  Buy = GetFX(TDBuy)\n",
        "  Sell = GetFX(TDSell)\n",
        "  FXDatabase[Currency] = { 'Buy' : Buy, 'Sell' : Sell }\n",
        "print FXDatabase\n",
        "    "
      ],
      "execution_count": 8,
      "outputs": [
        {
          "output_type": "stream",
          "text": [
            "{'TWB': {'Sell': 0.261, 'Buy': 0.253}, 'USD': {'Sell': 7.86, 'Buy': 7.815}, 'IDR': {'Sell': 0.0006, 'Buy': 0.0005}, 'TWQ': {'Sell': 0.266, 'Buy': 0.256}, 'AED': {'Sell': 2.18, 'Buy': 2.08}, 'GBP': {'Sell': 10.11, 'Buy': 9.91}, 'DKK': {'Sell': 1.22, 'Buy': 1.18}, 'CAD': {'Sell': 6.01, 'Buy': 5.91}, 'RMQ': {'Sell': 1.146, 'Buy': 1.135}, 'KWD': {'Sell': 27.0, 'Buy': 24.0}, 'MYR': {'Sell': 1.98, 'Buy': 1.88}, 'RMB': {'Sell': 1.142857, 'Buy': 1.129943}, 'SAR': {'Sell': 2.1, 'Buy': 2.02}, 'SEK': {'Sell': 0.877, 'Buy': 0.837}, 'SGD': {'Sell': 5.745, 'Buy': 5.665}, 'AUD': {'Sell': 5.755, 'Buy': 5.655}, 'CHF': {'Sell': 7.95, 'Buy': 7.83}, 'KRW': {'Sell': 0.00712, 'Buy': 0.00672}, 'VND': {'Sell': 0.00038, 'Buy': 0.0003}, 'NZD': {'Sell': 5.23, 'Buy': 5.11}, 'THB': {'Sell': 0.242, 'Buy': 0.232}, 'EUR': {'Sell': 8.98, 'Buy': 8.86}, 'NOK': {'Sell': 0.956, 'Buy': 0.916}, 'RUB': {'Sell': 0.127, 'Buy': 0.117}, 'MOP': {'Sell': 0.972, 'Buy': 0.95}, 'BHD': {'Sell': 21.3, 'Buy': 19.8}, 'INR': {'Sell': 0.118, 'Buy': 0.108}, 'JPY': {'Sell': 0.07165, 'Buy': 0.07065}, 'OMR': {'Sell': 21.0, 'Buy': 19.8}, 'PHP': {'Sell': 0.155, 'Buy': 0.145}, 'ZAR': {'Sell': 0.6, 'Buy': 0.5}}\n"
          ],
          "name": "stdout"
        }
      ]
    },
    {
      "metadata": {
        "id": "zGeUPrNwCKxE",
        "colab_type": "code",
        "colab": {}
      },
      "cell_type": "code",
      "source": [
        "def GetFX(TD):\n",
        "      FX = \"\"\n",
        "      for ImgTag in TD.find_all('img'):\n",
        "          Src = ImgTag['src']\n",
        "          ImgName = Src[(Src.find(\"/\")+1):Src.find(\".png\")]\n",
        "          Digit = \".\" if ImgName == \"vir\" else ImgName\n",
        "          FX = FX + Digit\n",
        "      return float(FX)"
      ],
      "execution_count": 0,
      "outputs": []
    },
    {
      "metadata": {
        "id": "VYRXot0-FeR9",
        "colab_type": "code",
        "colab": {}
      },
      "cell_type": "code",
      "source": [
        ""
      ],
      "execution_count": 0,
      "outputs": []
    }
  ]
}
